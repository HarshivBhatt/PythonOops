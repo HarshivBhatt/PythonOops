{
 "cells": [
  {
   "cell_type": "markdown",
   "id": "426a9592",
   "metadata": {},
   "source": [
    "### Object oriented programming in python contains various topics so here i have tried to cover below concepts.\n",
    "#### 1) Basic class defination\n",
    "#### 2) Inheritance \n",
    "#### 3) Abstract class\n",
    "#### 4) Polymorphism\n",
    "#### 5) Class method & Static method"
   ]
  },
  {
   "cell_type": "markdown",
   "id": "85b3aa90",
   "metadata": {},
   "source": [
    "### 1) Basic class defination"
   ]
  },
  {
   "cell_type": "code",
   "execution_count": null,
   "id": "1afb5160",
   "metadata": {},
   "outputs": [],
   "source": [
    "class Dog:\n",
    "    # class attribute\n",
    "    attr1 = \"dog name\"\n",
    "    \n",
    "    # Instance attribute\n",
    "    def __init__(self, name):\n",
    "        self.name = name\n",
    "    def demo_method(self,age):\n",
    "        print('The age of ' + self.name + ' is ' + age)\n",
    "\n",
    "# Object instantiation\n",
    "Rodger = Dog(\"Rodger\")\n",
    "o1 = Dog(\"Rencho\")\n",
    "\n",
    "# Accessing class attributes\n",
    "print(\"Rodger is a {}\".format(Rodger.__class__.attr1))\n",
    " \n",
    "# Accessing instance attributes\n",
    "print(\"Hey {}\".format(Rodger.name))\n",
    "Rodger.demo_method('10')"
   ]
  },
  {
   "cell_type": "markdown",
   "id": "e7642007",
   "metadata": {},
   "source": [
    "### 2) Inheritance"
   ]
  },
  {
   "cell_type": "code",
   "execution_count": null,
   "id": "acc04a96",
   "metadata": {},
   "outputs": [],
   "source": [
    "class Person():\n",
    "    #define constructor\n",
    "    def __init__(self,name,age,post):\n",
    "        self.name = name\n",
    "        self.age = age\n",
    "        self.post = post\n",
    "    #create method \n",
    "    def first_method(self):\n",
    "        print('This method you have called from parent class: ' + self.name + self.age)\n",
    "class Sub_person(Person):\n",
    "    #define constructor \n",
    "    def __init__(self,name,age,post,idnumber,salary):\n",
    "        self.salary = salary\n",
    "        self.idnumber = idnumber\n",
    "        #inherit parent class's variable\n",
    "        Person.__init__(self,name,age,post)\n",
    "    def display_fun(self):\n",
    "        print(\"Name is: \" + self.name)\n",
    "        print(\"Age is \" + self.age)\n",
    "        print(\"Post is \" + self.post)\n",
    "        print('IDnumber: ' + self.idnumber)\n",
    "        print(\"Salary: \" + self.salary)\n",
    "        \n",
    "#create object of child class\n",
    "sub_obj = Sub_person('ABCD','24','B.Tech','1234','123000')\n",
    "#calling method through child class object\n",
    "sub_obj.first_method()\n",
    "sub_obj.display_fun()"
   ]
  },
  {
   "cell_type": "code",
   "execution_count": null,
   "id": "1a208444",
   "metadata": {},
   "outputs": [],
   "source": [
    "### Multilevel inheritance\n",
    "#Base class\n",
    "class Vehicle:\n",
    "    #define constructor \n",
    "    def __init__(self,v_type):\n",
    "        self.v_type = v_type\n",
    " \n",
    "# Intermediate class\n",
    "class Vehicle_brand(Vehicle):\n",
    "    #define constructor\n",
    "    def __init__(self, v_brand , v_type):\n",
    "        self.v_brand = v_brand\n",
    "        #inherit the variable from base class. \n",
    "        Vehicle.__init__(self, v_type)\n",
    " \n",
    "# Derived class\n",
    "class Vehicle_model(Vehicle_brand):\n",
    "    #define constructor\n",
    "    def __init__(self, v_type, v_brand, model_name, model_price):\n",
    "        self.model_name = model_name\n",
    "        self.model_price = model_price\n",
    "        #inherit the variable from intermediate class. \n",
    "        Vehicle_brand.__init__(self, v_brand, v_type)\n",
    " \n",
    "    def print_name(self):\n",
    "        print('Vehicle brand name :', self.v_brand)\n",
    "        print(\"Vehicle model name :\", self.model_name)\n",
    "        print(\"Vehicle price :\", self.model_price)\n",
    "        print(\"Vehicle Type :\", self.v_type)\n",
    "\n",
    "v1 = Vehicle_model('2','HONDA','SHINE', '70000')\n",
    "v1.print_name()"
   ]
  },
  {
   "cell_type": "code",
   "execution_count": null,
   "id": "e4cae61c",
   "metadata": {},
   "outputs": [],
   "source": [
    "### Multiple Inheritance\n",
    "class Base1():\n",
    "    #define constructor\n",
    "    def __init__(self):\n",
    "        self.str1 = \"baseclass1\"\n",
    "        print (\"Base1\")\n",
    "  \n",
    "class Base2():\n",
    "    #define constructor\n",
    "    def __init__(self):\n",
    "        self.str2 = \"baseclass2\"        \n",
    "        print (\"Base2\")\n",
    "  \n",
    "class Derived(Base1, Base2):\n",
    "    #define constructor\n",
    "    def __init__(self):\n",
    "        # Calling constructors of Base1\n",
    "        # and Base2 classes\n",
    "        Base1.__init__(self)\n",
    "        Base2.__init__(self)\n",
    "        print (\"Derived\")\n",
    "          \n",
    "    def printStrs(self):\n",
    "        print(self.str1, self.str2)\n",
    "         \n",
    "  \n",
    "ob = Derived()\n",
    "ob.printStrs()"
   ]
  },
  {
   "cell_type": "code",
   "execution_count": null,
   "id": "b15170ab",
   "metadata": {},
   "outputs": [],
   "source": [
    "### Hierarchical Inheritance \n",
    "class Parent:\n",
    "    def func1(self):\n",
    "        print(\"This function is in parent class.\")\n",
    " \n",
    "class Child1(Parent):\n",
    "    def func2(self):\n",
    "        print(\"This function is in child 1.\")\n",
    "\n",
    "class Child2(Parent):\n",
    "    def func3(self):\n",
    "        print(\"This function is in child 2.\")\n",
    " \n",
    " \n",
    "# Driver's code\n",
    "object1 = Child1()\n",
    "object2 = Child2()\n",
    "object1.func1()\n",
    "object2.func1()\n",
    "object2.func3()"
   ]
  },
  {
   "cell_type": "code",
   "execution_count": null,
   "id": "4f20835a",
   "metadata": {},
   "outputs": [],
   "source": [
    "### Hybrid Inheritance\n",
    "class School:\n",
    "    def func1(self):\n",
    "        print(\"This function is in school.\")\n",
    "\n",
    "class Student1(School):\n",
    "    def func2(self):\n",
    "        print(\"This function is in student 1. \")\n",
    "        \n",
    "class Student2(School):\n",
    "    def func3(self):\n",
    "        print(\"This function is in student 2.\")\n",
    "        \n",
    "class Student3(Student1, School):\n",
    "    def func4(self):\n",
    "        print(\"This function is in student 3.\")\n",
    " \n",
    " \n",
    "# Driver's code\n",
    "object = Student3()\n",
    "object.func1()\n",
    "object.func2()"
   ]
  },
  {
   "cell_type": "code",
   "execution_count": null,
   "id": "76c9e204",
   "metadata": {},
   "outputs": [],
   "source": [
    "class Base:\n",
    "    def __init__(self):\n",
    "        self.a = \"Harshiv here\"\n",
    "        self.__c = \"private member\"\n",
    "        self._d = \"Protected member\"\n",
    " \n",
    "# Creating a derived class\n",
    "class Derived(Base):\n",
    "    def __init__(self):\n",
    " \n",
    "        # Calling constructor of\n",
    "        # Base class\n",
    "        Base.__init__(self)\n",
    "        print(\"Calling private member of base class: \" + self.a)\n",
    "        print('calling protected member: ' + self._d)\n",
    "        print(self.__c)\n",
    " \n",
    " \n",
    "# Driver code\n",
    "obj1 = Base()\n",
    "obj2 = Derived()\n",
    "print(obj1.__c)\n"
   ]
  },
  {
   "cell_type": "code",
   "execution_count": null,
   "id": "d37a5d27",
   "metadata": {},
   "outputs": [],
   "source": [
    "###Accessed private variable \n",
    "class MyClass:\n",
    "  \n",
    "    # Hidden member of MyClass\n",
    "    __hiddenVariable = 10\n",
    "  \n",
    "# Driver code\n",
    "myObject = MyClass()     \n",
    "print(myObject._MyClass__hiddenVariable)"
   ]
  },
  {
   "cell_type": "markdown",
   "id": "fdcd4383",
   "metadata": {},
   "source": [
    "### 3) Abstract Class"
   ]
  },
  {
   "cell_type": "code",
   "execution_count": null,
   "id": "a2b12c0d",
   "metadata": {},
   "outputs": [],
   "source": [
    "from abc import ABC, abstractmethod\n",
    "#Here we defined abstract class with pass the ABC in class argument\n",
    "class Vehicle(ABC):\n",
    "    #use the abstract method decorator for defined the method in abstarct class\n",
    "    @abstractmethod\n",
    "    def type_of_vehicle(self):\n",
    "        #Here we only define the method\n",
    "        pass\n",
    "#call the abstract class in child class\n",
    "class Two_wheel(Vehicle):\n",
    "    #In the derived class we implement the above method\n",
    "    def type_of_vehicle(self):\n",
    "        print('This is the section of 2 wheelers')\n",
    "class Four_wheel(Vehicle):\n",
    "    #same as above, we implement the method defined in abstract class\n",
    "    def type_of_vehicle(self):\n",
    "        print('This is the section of 4 wheelers')\n",
    "        \n",
    "v1 = Two_wheel()\n",
    "v1.type_of_vehicle()\n",
    "v2 = Four_wheel()\n",
    "v2.type_of_vehicle()        "
   ]
  },
  {
   "cell_type": "code",
   "execution_count": null,
   "id": "03578f94",
   "metadata": {},
   "outputs": [],
   "source": [
    "v = Vehicle()"
   ]
  },
  {
   "cell_type": "markdown",
   "id": "92dfd6e9",
   "metadata": {},
   "source": [
    "### 4) Polymorphism"
   ]
  },
  {
   "cell_type": "code",
   "execution_count": null,
   "id": "c5c9e04a",
   "metadata": {},
   "outputs": [],
   "source": [
    "###inbuilt polymorphism \n",
    "\n",
    "# len() being used for a string\n",
    "print(len(\"Harshiv\"))\n",
    " \n",
    "# len() being used for a list\n",
    "print(len([10, 20, 30]))"
   ]
  },
  {
   "cell_type": "code",
   "execution_count": null,
   "id": "eb310cf3",
   "metadata": {},
   "outputs": [],
   "source": [
    "###User defined\n",
    "#This is a normal function to utilize the functionality of Polymorphism\n",
    "def add(x, y, z = 0):\n",
    "    \"\"\"This function returns the addition of three variable i.e. - x,y,z\"\"\"\n",
    "    return x + y+z\n",
    "\n",
    "#calling that function\n",
    "print(add(2, 3))\n",
    "print(add(2, 3, 4))"
   ]
  },
  {
   "cell_type": "code",
   "execution_count": null,
   "id": "6da0c34a",
   "metadata": {},
   "outputs": [],
   "source": [
    "### inheritance + Polymorphism \n",
    "class Testing:\n",
    "    def intro(self):\n",
    "        print(\"Introduction of base class\")\n",
    "    def flight(self):\n",
    "        print(\"calling flight method of base class\")\n",
    "        \n",
    "class Demo(Bird):\n",
    "    def flight(self):\n",
    "        print(\"calling flight method of demo class\")\n",
    "obj_bd = Testing()\n",
    "obj_sp = Demo()\n",
    "\n",
    "obj_sp.flight()\n",
    "obj_bd.flight()\n",
    "obj_sp.intro()"
   ]
  },
  {
   "cell_type": "markdown",
   "id": "1686e9f4",
   "metadata": {},
   "source": [
    "### 5) Class method & Static method "
   ]
  },
  {
   "cell_type": "code",
   "execution_count": null,
   "id": "dd5a29be",
   "metadata": {},
   "outputs": [],
   "source": [
    "###Class method\n",
    "class Person:\n",
    "    #define the local variable grade for further use\n",
    "    grade = ''\n",
    "    def __init__(self,name,age):\n",
    "        self.name = name\n",
    "        self.age = age\n",
    "    def display_emp_details(self):\n",
    "        print(self.name,self.age)\n",
    "    #implement one class method with the use of classmethod decorator\n",
    "    @classmethod\n",
    "    def add_grade(cls,grade,department):\n",
    "        return cls(grade,department)\n",
    "    #implement one static method with the use of staticmethod decorator \n",
    "    @staticmethod\n",
    "    def verify_grade(grade):\n",
    "        if grade == 'B4':\n",
    "            print('Eligible for allowance')\n",
    "        else:\n",
    "            print('Not eligible')\n",
    "grade = 'B4'\n",
    "depart = 'DS'\n",
    "# p1 = Person('Mohit','12')\n",
    "p2 = Person.add_grade(grade,depart)\n",
    "p2.display_emp_details()\n",
    "# p1.display_emp_details()\n",
    "# Person.verify_grade(grade)"
   ]
  },
  {
   "cell_type": "code",
   "execution_count": null,
   "id": "ca994dab",
   "metadata": {},
   "outputs": [],
   "source": [
    "class Car(object):  \n",
    "    colour = 'red'\n",
    "    @classmethod\n",
    "    def blue_cars(cls):\n",
    "        print('Car colour is blue')\n",
    "        # cls is the Car class\n",
    "        # return all blue cars by looping over cls instances\n",
    "    def get_colour(self):\n",
    "        return self.colour"
   ]
  },
  {
   "cell_type": "raw",
   "id": "8839ddb1",
   "metadata": {},
   "source": [
    "Use classmethod to implement methods that work on a whole class (and not on particular class instances):"
   ]
  },
  {
   "cell_type": "code",
   "execution_count": null,
   "id": "c11384b2",
   "metadata": {},
   "outputs": [],
   "source": [
    "Car.blue_cars()"
   ]
  },
  {
   "cell_type": "raw",
   "id": "503c6c1e",
   "metadata": {},
   "source": [
    "Use instance methods to implement methods that work on a particular instance:"
   ]
  },
  {
   "cell_type": "code",
   "execution_count": null,
   "id": "3d2f221f",
   "metadata": {},
   "outputs": [],
   "source": [
    "my_car = Car()\n",
    "my_car.get_colour() # should return 'red'"
   ]
  }
 ],
 "metadata": {
  "kernelspec": {
   "display_name": "Python 3 (ipykernel)",
   "language": "python",
   "name": "python3"
  },
  "language_info": {
   "codemirror_mode": {
    "name": "ipython",
    "version": 3
   },
   "file_extension": ".py",
   "mimetype": "text/x-python",
   "name": "python",
   "nbconvert_exporter": "python",
   "pygments_lexer": "ipython3",
   "version": "3.9.12"
  }
 },
 "nbformat": 4,
 "nbformat_minor": 5
}
